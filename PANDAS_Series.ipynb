{
 "cells": [
  {
   "cell_type": "code",
   "execution_count": 1,
   "metadata": {},
   "outputs": [],
   "source": [
    "import numpy as np"
   ]
  },
  {
   "cell_type": "code",
   "execution_count": 2,
   "metadata": {},
   "outputs": [],
   "source": [
    "from numpy import genfromtxt"
   ]
  },
  {
   "cell_type": "code",
   "execution_count": 5,
   "metadata": {},
   "outputs": [
    {
     "ename": "ValueError",
     "evalue": "Some errors were detected !\n    Line #2 (got 2 columns instead of 1)\n    Line #7 (got 2 columns instead of 1)\n    Line #11 (got 2 columns instead of 1)\n    Line #13 (got 2 columns instead of 1)\n    Line #16 (got 2 columns instead of 1)\n    Line #19 (got 2 columns instead of 1)\n    Line #30 (got 2 columns instead of 1)\n    Line #31 (got 2 columns instead of 1)\n    Line #34 (got 2 columns instead of 1)\n    Line #36 (got 2 columns instead of 1)\n    Line #51 (got 2 columns instead of 1)\n    Line #55 (got 2 columns instead of 1)\n    Line #57 (got 2 columns instead of 1)\n    Line #63 (got 5 columns instead of 1)\n    Line #67 (got 2 columns instead of 1)\n    Line #78 (got 2 columns instead of 1)\n    Line #80 (got 2 columns instead of 1)\n    Line #82 (got 2 columns instead of 1)\n    Line #93 (got 2 columns instead of 1)\n    Line #101 (got 2 columns instead of 1)\n    Line #105 (got 3 columns instead of 1)\n    Line #113 (got 2 columns instead of 1)\n    Line #126 (got 4 columns instead of 1)\n    Line #130 (got 3 columns instead of 1)\n    Line #133 (got 2 columns instead of 1)\n    Line #135 (got 2 columns instead of 1)\n    Line #139 (got 4 columns instead of 1)\n    Line #144 (got 2 columns instead of 1)\n    Line #149 (got 2 columns instead of 1)\n    Line #152 (got 2 columns instead of 1)\n    Line #153 (got 3 columns instead of 1)\n    Line #163 (got 2 columns instead of 1)\n    Line #166 (got 4 columns instead of 1)\n    Line #182 (got 2 columns instead of 1)\n    Line #193 (got 2 columns instead of 1)\n    Line #195 (got 3 columns instead of 1)\n    Line #197 (got 2 columns instead of 1)\n    Line #207 (got 2 columns instead of 1)\n    Line #209 (got 3 columns instead of 1)\n    Line #213 (got 4 columns instead of 1)\n    Line #214 (got 2 columns instead of 1)\n    Line #220 (got 2 columns instead of 1)\n    Line #224 (got 2 columns instead of 1)\n    Line #225 (got 2 columns instead of 1)\n    Line #227 (got 2 columns instead of 1)\n    Line #238 (got 2 columns instead of 1)\n    Line #243 (got 4 columns instead of 1)\n    Line #244 (got 2 columns instead of 1)\n    Line #248 (got 2 columns instead of 1)\n    Line #256 (got 2 columns instead of 1)\n    Line #258 (got 2 columns instead of 1)\n    Line #267 (got 2 columns instead of 1)\n    Line #272 (got 2 columns instead of 1)\n    Line #282 (got 3 columns instead of 1)\n    Line #285 (got 3 columns instead of 1)\n    Line #295 (got 2 columns instead of 1)\n    Line #300 (got 3 columns instead of 1)\n    Line #301 (got 2 columns instead of 1)\n    Line #310 (got 3 columns instead of 1)\n    Line #313 (got 2 columns instead of 1)\n    Line #314 (got 2 columns instead of 1)\n    Line #315 (got 2 columns instead of 1)\n    Line #317 (got 2 columns instead of 1)\n    Line #318 (got 3 columns instead of 1)\n    Line #331 (got 2 columns instead of 1)\n    Line #332 (got 3 columns instead of 1)\n    Line #334 (got 2 columns instead of 1)\n    Line #335 (got 2 columns instead of 1)\n    Line #339 (got 2 columns instead of 1)\n    Line #352 (got 2 columns instead of 1)\n    Line #355 (got 2 columns instead of 1)\n    Line #364 (got 2 columns instead of 1)\n    Line #369 (got 2 columns instead of 1)\n    Line #374 (got 3 columns instead of 1)\n    Line #375 (got 3 columns instead of 1)\n    Line #384 (got 2 columns instead of 1)\n    Line #394 (got 2 columns instead of 1)\n    Line #397 (got 3 columns instead of 1)\n    Line #405 (got 2 columns instead of 1)\n    Line #410 (got 2 columns instead of 1)\n    Line #414 (got 3 columns instead of 1)\n    Line #430 (got 2 columns instead of 1)\n    Line #431 (got 3 columns instead of 1)\n    Line #433 (got 2 columns instead of 1)\n    Line #443 (got 4 columns instead of 1)\n    Line #444 (got 3 columns instead of 1)\n    Line #445 (got 3 columns instead of 1)\n    Line #447 (got 2 columns instead of 1)\n    Line #457 (got 2 columns instead of 1)\n    Line #458 (got 2 columns instead of 1)\n    Line #468 (got 2 columns instead of 1)\n    Line #469 (got 3 columns instead of 1)\n    Line #471 (got 2 columns instead of 1)\n    Line #476 (got 2 columns instead of 1)\n    Line #481 (got 2 columns instead of 1)\n    Line #485 (got 2 columns instead of 1)\n    Line #498 (got 4 columns instead of 1)\n    Line #503 (got 2 columns instead of 1)\n    Line #507 (got 2 columns instead of 1)\n    Line #514 (got 2 columns instead of 1)\n    Line #521 (got 2 columns instead of 1)\n    Line #533 (got 2 columns instead of 1)\n    Line #535 (got 2 columns instead of 1)\n    Line #567 (got 2 columns instead of 1)\n    Line #577 (got 2 columns instead of 1)\n    Line #586 (got 2 columns instead of 1)\n    Line #589 (got 4 columns instead of 1)\n    Line #590 (got 2 columns instead of 1)\n    Line #593 (got 2 columns instead of 1)\n    Line #600 (got 2 columns instead of 1)\n    Line #601 (got 2 columns instead of 1)\n    Line #602 (got 2 columns instead of 1)\n    Line #612 (got 2 columns instead of 1)\n    Line #618 (got 2 columns instead of 1)\n    Line #619 (got 2 columns instead of 1)\n    Line #621 (got 2 columns instead of 1)\n    Line #628 (got 2 columns instead of 1)\n    Line #639 (got 3 columns instead of 1)\n    Line #652 (got 2 columns instead of 1)\n    Line #659 (got 2 columns instead of 1)\n    Line #663 (got 2 columns instead of 1)\n    Line #665 (got 2 columns instead of 1)\n    Line #681 (got 2 columns instead of 1)\n    Line #684 (got 2 columns instead of 1)\n    Line #687 (got 2 columns instead of 1)\n    Line #690 (got 2 columns instead of 1)\n    Line #706 (got 2 columns instead of 1)\n    Line #709 (got 3 columns instead of 1)\n    Line #714 (got 2 columns instead of 1)\n    Line #717 (got 2 columns instead of 1)\n    Line #720 (got 2 columns instead of 1)\n    Line #733 (got 3 columns instead of 1)\n    Line #739 (got 2 columns instead of 1)\n    Line #740 (got 3 columns instead of 1)\n    Line #742 (got 3 columns instead of 1)\n    Line #743 (got 2 columns instead of 1)\n    Line #746 (got 3 columns instead of 1)\n    Line #747 (got 2 columns instead of 1)\n    Line #757 (got 2 columns instead of 1)\n    Line #758 (got 4 columns instead of 1)\n    Line #761 (got 3 columns instead of 1)\n    Line #763 (got 2 columns instead of 1)\n    Line #774 (got 2 columns instead of 1)\n    Line #780 (got 2 columns instead of 1)\n    Line #781 (got 2 columns instead of 1)\n    Line #791 (got 2 columns instead of 1)\n    Line #792 (got 3 columns instead of 1)\n    Line #798 (got 4 columns instead of 1)\n    Line #800 (got 2 columns instead of 1)\n    Line #808 (got 2 columns instead of 1)\n    Line #816 (got 2 columns instead of 1)\n    Line #821 (got 2 columns instead of 1)\n    Line #825 (got 2 columns instead of 1)\n    Line #836 (got 2 columns instead of 1)\n    Line #839 (got 2 columns instead of 1)\n    Line #840 (got 2 columns instead of 1)\n    Line #841 (got 2 columns instead of 1)\n    Line #848 (got 4 columns instead of 1)\n    Line #852 (got 4 columns instead of 1)\n    Line #854 (got 3 columns instead of 1)\n    Line #858 (got 2 columns instead of 1)\n    Line #860 (got 5 columns instead of 1)\n    Line #863 (got 3 columns instead of 1)\n    Line #865 (got 2 columns instead of 1)\n    Line #866 (got 2 columns instead of 1)\n    Line #870 (got 2 columns instead of 1)\n    Line #873 (got 2 columns instead of 1)\n    Line #877 (got 4 columns instead of 1)\n    Line #879 (got 2 columns instead of 1)\n    Line #881 (got 2 columns instead of 1)\n    Line #893 (got 3 columns instead of 1)\n    Line #904 (got 3 columns instead of 1)\n    Line #907 (got 2 columns instead of 1)\n    Line #908 (got 2 columns instead of 1)\n    Line #910 (got 2 columns instead of 1)\n    Line #917 (got 2 columns instead of 1)\n    Line #921 (got 2 columns instead of 1)\n    Line #927 (got 2 columns instead of 1)\n    Line #929 (got 2 columns instead of 1)\n    Line #933 (got 2 columns instead of 1)\n    Line #934 (got 2 columns instead of 1)\n    Line #944 (got 2 columns instead of 1)\n    Line #949 (got 2 columns instead of 1)\n    Line #954 (got 2 columns instead of 1)\n    Line #968 (got 2 columns instead of 1)\n    Line #969 (got 2 columns instead of 1)\n    Line #976 (got 2 columns instead of 1)\n    Line #977 (got 3 columns instead of 1)\n    Line #980 (got 2 columns instead of 1)\n    Line #982 (got 3 columns instead of 1)\n    Line #986 (got 2 columns instead of 1)\n    Line #988 (got 2 columns instead of 1)\n    Line #991 (got 2 columns instead of 1)\n    Line #995 (got 2 columns instead of 1)\n    Line #998 (got 3 columns instead of 1)\n    Line #1001 (got 2 columns instead of 1)",
     "output_type": "error",
     "traceback": [
      "\u001b[1;31m---------------------------------------------------------------------------\u001b[0m",
      "\u001b[1;31mValueError\u001b[0m                                Traceback (most recent call last)",
      "\u001b[1;32m<ipython-input-5-0510874ebb21>\u001b[0m in \u001b[0;36m<module>\u001b[1;34m\u001b[0m\n\u001b[1;32m----> 1\u001b[1;33m \u001b[0mmy_data\u001b[0m\u001b[1;33m=\u001b[0m\u001b[0mgenfromtxt\u001b[0m\u001b[1;33m(\u001b[0m\u001b[1;34m'example.csv'\u001b[0m\u001b[1;33m,\u001b[0m \u001b[0mencoding\u001b[0m\u001b[1;33m=\u001b[0m\u001b[1;34m'utf-8'\u001b[0m\u001b[1;33m)\u001b[0m\u001b[1;33m\u001b[0m\u001b[1;33m\u001b[0m\u001b[0m\n\u001b[0m",
      "\u001b[1;32m~\\Anaconda3\\lib\\site-packages\\numpy\\lib\\npyio.py\u001b[0m in \u001b[0;36mgenfromtxt\u001b[1;34m(fname, dtype, comments, delimiter, skip_header, skip_footer, converters, missing_values, filling_values, usecols, names, excludelist, deletechars, replace_space, autostrip, case_sensitive, defaultfmt, unpack, usemask, loose, invalid_raise, max_rows, encoding)\u001b[0m\n\u001b[0;32m   2101\u001b[0m             \u001b[1;31m# Raise an exception ?\u001b[0m\u001b[1;33m\u001b[0m\u001b[1;33m\u001b[0m\u001b[1;33m\u001b[0m\u001b[0m\n\u001b[0;32m   2102\u001b[0m             \u001b[1;32mif\u001b[0m \u001b[0minvalid_raise\u001b[0m\u001b[1;33m:\u001b[0m\u001b[1;33m\u001b[0m\u001b[1;33m\u001b[0m\u001b[0m\n\u001b[1;32m-> 2103\u001b[1;33m                 \u001b[1;32mraise\u001b[0m \u001b[0mValueError\u001b[0m\u001b[1;33m(\u001b[0m\u001b[0merrmsg\u001b[0m\u001b[1;33m)\u001b[0m\u001b[1;33m\u001b[0m\u001b[1;33m\u001b[0m\u001b[0m\n\u001b[0m\u001b[0;32m   2104\u001b[0m             \u001b[1;31m# Issue a warning ?\u001b[0m\u001b[1;33m\u001b[0m\u001b[1;33m\u001b[0m\u001b[1;33m\u001b[0m\u001b[0m\n\u001b[0;32m   2105\u001b[0m             \u001b[1;32melse\u001b[0m\u001b[1;33m:\u001b[0m\u001b[1;33m\u001b[0m\u001b[1;33m\u001b[0m\u001b[0m\n",
      "\u001b[1;31mValueError\u001b[0m: Some errors were detected !\n    Line #2 (got 2 columns instead of 1)\n    Line #7 (got 2 columns instead of 1)\n    Line #11 (got 2 columns instead of 1)\n    Line #13 (got 2 columns instead of 1)\n    Line #16 (got 2 columns instead of 1)\n    Line #19 (got 2 columns instead of 1)\n    Line #30 (got 2 columns instead of 1)\n    Line #31 (got 2 columns instead of 1)\n    Line #34 (got 2 columns instead of 1)\n    Line #36 (got 2 columns instead of 1)\n    Line #51 (got 2 columns instead of 1)\n    Line #55 (got 2 columns instead of 1)\n    Line #57 (got 2 columns instead of 1)\n    Line #63 (got 5 columns instead of 1)\n    Line #67 (got 2 columns instead of 1)\n    Line #78 (got 2 columns instead of 1)\n    Line #80 (got 2 columns instead of 1)\n    Line #82 (got 2 columns instead of 1)\n    Line #93 (got 2 columns instead of 1)\n    Line #101 (got 2 columns instead of 1)\n    Line #105 (got 3 columns instead of 1)\n    Line #113 (got 2 columns instead of 1)\n    Line #126 (got 4 columns instead of 1)\n    Line #130 (got 3 columns instead of 1)\n    Line #133 (got 2 columns instead of 1)\n    Line #135 (got 2 columns instead of 1)\n    Line #139 (got 4 columns instead of 1)\n    Line #144 (got 2 columns instead of 1)\n    Line #149 (got 2 columns instead of 1)\n    Line #152 (got 2 columns instead of 1)\n    Line #153 (got 3 columns instead of 1)\n    Line #163 (got 2 columns instead of 1)\n    Line #166 (got 4 columns instead of 1)\n    Line #182 (got 2 columns instead of 1)\n    Line #193 (got 2 columns instead of 1)\n    Line #195 (got 3 columns instead of 1)\n    Line #197 (got 2 columns instead of 1)\n    Line #207 (got 2 columns instead of 1)\n    Line #209 (got 3 columns instead of 1)\n    Line #213 (got 4 columns instead of 1)\n    Line #214 (got 2 columns instead of 1)\n    Line #220 (got 2 columns instead of 1)\n    Line #224 (got 2 columns instead of 1)\n    Line #225 (got 2 columns instead of 1)\n    Line #227 (got 2 columns instead of 1)\n    Line #238 (got 2 columns instead of 1)\n    Line #243 (got 4 columns instead of 1)\n    Line #244 (got 2 columns instead of 1)\n    Line #248 (got 2 columns instead of 1)\n    Line #256 (got 2 columns instead of 1)\n    Line #258 (got 2 columns instead of 1)\n    Line #267 (got 2 columns instead of 1)\n    Line #272 (got 2 columns instead of 1)\n    Line #282 (got 3 columns instead of 1)\n    Line #285 (got 3 columns instead of 1)\n    Line #295 (got 2 columns instead of 1)\n    Line #300 (got 3 columns instead of 1)\n    Line #301 (got 2 columns instead of 1)\n    Line #310 (got 3 columns instead of 1)\n    Line #313 (got 2 columns instead of 1)\n    Line #314 (got 2 columns instead of 1)\n    Line #315 (got 2 columns instead of 1)\n    Line #317 (got 2 columns instead of 1)\n    Line #318 (got 3 columns instead of 1)\n    Line #331 (got 2 columns instead of 1)\n    Line #332 (got 3 columns instead of 1)\n    Line #334 (got 2 columns instead of 1)\n    Line #335 (got 2 columns instead of 1)\n    Line #339 (got 2 columns instead of 1)\n    Line #352 (got 2 columns instead of 1)\n    Line #355 (got 2 columns instead of 1)\n    Line #364 (got 2 columns instead of 1)\n    Line #369 (got 2 columns instead of 1)\n    Line #374 (got 3 columns instead of 1)\n    Line #375 (got 3 columns instead of 1)\n    Line #384 (got 2 columns instead of 1)\n    Line #394 (got 2 columns instead of 1)\n    Line #397 (got 3 columns instead of 1)\n    Line #405 (got 2 columns instead of 1)\n    Line #410 (got 2 columns instead of 1)\n    Line #414 (got 3 columns instead of 1)\n    Line #430 (got 2 columns instead of 1)\n    Line #431 (got 3 columns instead of 1)\n    Line #433 (got 2 columns instead of 1)\n    Line #443 (got 4 columns instead of 1)\n    Line #444 (got 3 columns instead of 1)\n    Line #445 (got 3 columns instead of 1)\n    Line #447 (got 2 columns instead of 1)\n    Line #457 (got 2 columns instead of 1)\n    Line #458 (got 2 columns instead of 1)\n    Line #468 (got 2 columns instead of 1)\n    Line #469 (got 3 columns instead of 1)\n    Line #471 (got 2 columns instead of 1)\n    Line #476 (got 2 columns instead of 1)\n    Line #481 (got 2 columns instead of 1)\n    Line #485 (got 2 columns instead of 1)\n    Line #498 (got 4 columns instead of 1)\n    Line #503 (got 2 columns instead of 1)\n    Line #507 (got 2 columns instead of 1)\n    Line #514 (got 2 columns instead of 1)\n    Line #521 (got 2 columns instead of 1)\n    Line #533 (got 2 columns instead of 1)\n    Line #535 (got 2 columns instead of 1)\n    Line #567 (got 2 columns instead of 1)\n    Line #577 (got 2 columns instead of 1)\n    Line #586 (got 2 columns instead of 1)\n    Line #589 (got 4 columns instead of 1)\n    Line #590 (got 2 columns instead of 1)\n    Line #593 (got 2 columns instead of 1)\n    Line #600 (got 2 columns instead of 1)\n    Line #601 (got 2 columns instead of 1)\n    Line #602 (got 2 columns instead of 1)\n    Line #612 (got 2 columns instead of 1)\n    Line #618 (got 2 columns instead of 1)\n    Line #619 (got 2 columns instead of 1)\n    Line #621 (got 2 columns instead of 1)\n    Line #628 (got 2 columns instead of 1)\n    Line #639 (got 3 columns instead of 1)\n    Line #652 (got 2 columns instead of 1)\n    Line #659 (got 2 columns instead of 1)\n    Line #663 (got 2 columns instead of 1)\n    Line #665 (got 2 columns instead of 1)\n    Line #681 (got 2 columns instead of 1)\n    Line #684 (got 2 columns instead of 1)\n    Line #687 (got 2 columns instead of 1)\n    Line #690 (got 2 columns instead of 1)\n    Line #706 (got 2 columns instead of 1)\n    Line #709 (got 3 columns instead of 1)\n    Line #714 (got 2 columns instead of 1)\n    Line #717 (got 2 columns instead of 1)\n    Line #720 (got 2 columns instead of 1)\n    Line #733 (got 3 columns instead of 1)\n    Line #739 (got 2 columns instead of 1)\n    Line #740 (got 3 columns instead of 1)\n    Line #742 (got 3 columns instead of 1)\n    Line #743 (got 2 columns instead of 1)\n    Line #746 (got 3 columns instead of 1)\n    Line #747 (got 2 columns instead of 1)\n    Line #757 (got 2 columns instead of 1)\n    Line #758 (got 4 columns instead of 1)\n    Line #761 (got 3 columns instead of 1)\n    Line #763 (got 2 columns instead of 1)\n    Line #774 (got 2 columns instead of 1)\n    Line #780 (got 2 columns instead of 1)\n    Line #781 (got 2 columns instead of 1)\n    Line #791 (got 2 columns instead of 1)\n    Line #792 (got 3 columns instead of 1)\n    Line #798 (got 4 columns instead of 1)\n    Line #800 (got 2 columns instead of 1)\n    Line #808 (got 2 columns instead of 1)\n    Line #816 (got 2 columns instead of 1)\n    Line #821 (got 2 columns instead of 1)\n    Line #825 (got 2 columns instead of 1)\n    Line #836 (got 2 columns instead of 1)\n    Line #839 (got 2 columns instead of 1)\n    Line #840 (got 2 columns instead of 1)\n    Line #841 (got 2 columns instead of 1)\n    Line #848 (got 4 columns instead of 1)\n    Line #852 (got 4 columns instead of 1)\n    Line #854 (got 3 columns instead of 1)\n    Line #858 (got 2 columns instead of 1)\n    Line #860 (got 5 columns instead of 1)\n    Line #863 (got 3 columns instead of 1)\n    Line #865 (got 2 columns instead of 1)\n    Line #866 (got 2 columns instead of 1)\n    Line #870 (got 2 columns instead of 1)\n    Line #873 (got 2 columns instead of 1)\n    Line #877 (got 4 columns instead of 1)\n    Line #879 (got 2 columns instead of 1)\n    Line #881 (got 2 columns instead of 1)\n    Line #893 (got 3 columns instead of 1)\n    Line #904 (got 3 columns instead of 1)\n    Line #907 (got 2 columns instead of 1)\n    Line #908 (got 2 columns instead of 1)\n    Line #910 (got 2 columns instead of 1)\n    Line #917 (got 2 columns instead of 1)\n    Line #921 (got 2 columns instead of 1)\n    Line #927 (got 2 columns instead of 1)\n    Line #929 (got 2 columns instead of 1)\n    Line #933 (got 2 columns instead of 1)\n    Line #934 (got 2 columns instead of 1)\n    Line #944 (got 2 columns instead of 1)\n    Line #949 (got 2 columns instead of 1)\n    Line #954 (got 2 columns instead of 1)\n    Line #968 (got 2 columns instead of 1)\n    Line #969 (got 2 columns instead of 1)\n    Line #976 (got 2 columns instead of 1)\n    Line #977 (got 3 columns instead of 1)\n    Line #980 (got 2 columns instead of 1)\n    Line #982 (got 3 columns instead of 1)\n    Line #986 (got 2 columns instead of 1)\n    Line #988 (got 2 columns instead of 1)\n    Line #991 (got 2 columns instead of 1)\n    Line #995 (got 2 columns instead of 1)\n    Line #998 (got 3 columns instead of 1)\n    Line #1001 (got 2 columns instead of 1)"
     ]
    }
   ],
   "source": [
    "my_data=genfromtxt('example.csv', encoding='utf-8')"
   ]
  },
  {
   "cell_type": "code",
   "execution_count": 6,
   "metadata": {},
   "outputs": [],
   "source": [
    "import pandas as pd\n",
    "\n"
   ]
  },
  {
   "cell_type": "code",
   "execution_count": 7,
   "metadata": {},
   "outputs": [],
   "source": [
    "labels = ['a','b','c']\n",
    "my_data=[10,20,30]\n",
    "arr=np.array(my_data)\n",
    "d={'a':10,'b':20,'c':30}"
   ]
  },
  {
   "cell_type": "code",
   "execution_count": 9,
   "metadata": {},
   "outputs": [
    {
     "data": {
      "text/plain": [
       "0    10\n",
       "1    20\n",
       "2    30\n",
       "dtype: int64"
      ]
     },
     "execution_count": 9,
     "metadata": {},
     "output_type": "execute_result"
    }
   ],
   "source": [
    "pd.Series(data=my_data)"
   ]
  },
  {
   "cell_type": "code",
   "execution_count": 10,
   "metadata": {},
   "outputs": [
    {
     "data": {
      "text/plain": [
       "a    10\n",
       "b    20\n",
       "c    30\n",
       "dtype: int64"
      ]
     },
     "execution_count": 10,
     "metadata": {},
     "output_type": "execute_result"
    }
   ],
   "source": [
    "pd.Series(data=my_data,index=labels)"
   ]
  },
  {
   "cell_type": "markdown",
   "metadata": {},
   "source": [
    "<p><b> Unlike \"Numpy\" there is indexing in \"Pandas\" which can be automatic generation </b></p>"
   ]
  },
  {
   "cell_type": "code",
   "execution_count": 11,
   "metadata": {},
   "outputs": [
    {
     "data": {
      "text/plain": [
       "a    10\n",
       "b    20\n",
       "c    30\n",
       "dtype: int64"
      ]
     },
     "execution_count": 11,
     "metadata": {},
     "output_type": "execute_result"
    }
   ],
   "source": [
    "pd.Series(my_data,labels)"
   ]
  },
  {
   "cell_type": "code",
   "execution_count": 12,
   "metadata": {},
   "outputs": [
    {
     "data": {
      "text/plain": [
       "array([10, 20, 30])"
      ]
     },
     "execution_count": 12,
     "metadata": {},
     "output_type": "execute_result"
    }
   ],
   "source": [
    "arr"
   ]
  },
  {
   "cell_type": "code",
   "execution_count": 13,
   "metadata": {},
   "outputs": [
    {
     "data": {
      "text/plain": [
       "0    10\n",
       "1    20\n",
       "2    30\n",
       "dtype: int32"
      ]
     },
     "execution_count": 13,
     "metadata": {},
     "output_type": "execute_result"
    }
   ],
   "source": [
    "pd.Series(arr)"
   ]
  },
  {
   "cell_type": "code",
   "execution_count": 14,
   "metadata": {},
   "outputs": [
    {
     "data": {
      "text/plain": [
       "a    10\n",
       "b    20\n",
       "c    30\n",
       "dtype: int32"
      ]
     },
     "execution_count": 14,
     "metadata": {},
     "output_type": "execute_result"
    }
   ],
   "source": [
    "pd.Series(arr,labels)"
   ]
  },
  {
   "cell_type": "code",
   "execution_count": 15,
   "metadata": {},
   "outputs": [
    {
     "data": {
      "text/plain": [
       "a    10\n",
       "b    20\n",
       "c    30\n",
       "dtype: int64"
      ]
     },
     "execution_count": 15,
     "metadata": {},
     "output_type": "execute_result"
    }
   ],
   "source": [
    "pd.Series(d)"
   ]
  },
  {
   "cell_type": "code",
   "execution_count": 16,
   "metadata": {},
   "outputs": [
    {
     "data": {
      "text/plain": [
       "{'a': 10, 'b': 20, 'c': 30}"
      ]
     },
     "execution_count": 16,
     "metadata": {},
     "output_type": "execute_result"
    }
   ],
   "source": [
    "d"
   ]
  },
  {
   "cell_type": "markdown",
   "metadata": {},
   "source": [
    "<p><b> pandas series can contains any type of data like it can contain built-in function as well </b></p>"
   ]
  },
  {
   "cell_type": "code",
   "execution_count": 17,
   "metadata": {},
   "outputs": [
    {
     "data": {
      "text/plain": [
       "0      sum\n",
       "1      len\n",
       "2    print\n",
       "dtype: object"
      ]
     },
     "execution_count": 17,
     "metadata": {},
     "output_type": "execute_result"
    }
   ],
   "source": [
    "pd.Series(data=['sum','len','print'])"
   ]
  },
  {
   "cell_type": "code",
   "execution_count": 18,
   "metadata": {},
   "outputs": [
    {
     "data": {
      "text/plain": [
       "0      <built-in function sum>\n",
       "1      <built-in function len>\n",
       "2    <built-in function print>\n",
       "dtype: object"
      ]
     },
     "execution_count": 18,
     "metadata": {},
     "output_type": "execute_result"
    }
   ],
   "source": [
    "pd.Series(data=[sum,len,print])"
   ]
  },
  {
   "cell_type": "code",
   "execution_count": 19,
   "metadata": {},
   "outputs": [],
   "source": [
    "ser1=pd.Series([1,2,3,4],['USA','Japan','Germany','America'])"
   ]
  },
  {
   "cell_type": "code",
   "execution_count": 20,
   "metadata": {},
   "outputs": [
    {
     "data": {
      "text/plain": [
       "USA        1\n",
       "Japan      2\n",
       "Germany    3\n",
       "America    4\n",
       "dtype: int64"
      ]
     },
     "execution_count": 20,
     "metadata": {},
     "output_type": "execute_result"
    }
   ],
   "source": [
    "ser1"
   ]
  },
  {
   "cell_type": "code",
   "execution_count": 23,
   "metadata": {},
   "outputs": [
    {
     "data": {
      "text/plain": [
       "1"
      ]
     },
     "execution_count": 23,
     "metadata": {},
     "output_type": "execute_result"
    }
   ],
   "source": [
    "ser1['USA']"
   ]
  },
  {
   "cell_type": "code",
   "execution_count": 24,
   "metadata": {},
   "outputs": [],
   "source": [
    "ser2 = pd.Series([1,2,5,4],['USA','Germany','Italy','Japan'])"
   ]
  },
  {
   "cell_type": "code",
   "execution_count": 25,
   "metadata": {},
   "outputs": [
    {
     "data": {
      "text/plain": [
       "USA        1\n",
       "Germany    2\n",
       "Italy      5\n",
       "Japan      4\n",
       "dtype: int64"
      ]
     },
     "execution_count": 25,
     "metadata": {},
     "output_type": "execute_result"
    }
   ],
   "source": [
    "ser2"
   ]
  },
  {
   "cell_type": "markdown",
   "metadata": {},
   "source": [
    "<p><b> when you will add two series together then it will find matching column and join it, all integers are added and converted to float values, as shown in example below; </b></p>"
   ]
  },
  {
   "cell_type": "code",
   "execution_count": 26,
   "metadata": {},
   "outputs": [
    {
     "data": {
      "text/plain": [
       "America    NaN\n",
       "Germany    5.0\n",
       "Italy      NaN\n",
       "Japan      6.0\n",
       "USA        2.0\n",
       "dtype: float64"
      ]
     },
     "execution_count": 26,
     "metadata": {},
     "output_type": "execute_result"
    }
   ],
   "source": [
    "ser1 + ser2"
   ]
  },
  {
   "cell_type": "code",
   "execution_count": null,
   "metadata": {},
   "outputs": [],
   "source": []
  }
 ],
 "metadata": {
  "kernelspec": {
   "display_name": "Python 3",
   "language": "python",
   "name": "python3"
  },
  "language_info": {
   "codemirror_mode": {
    "name": "ipython",
    "version": 3
   },
   "file_extension": ".py",
   "mimetype": "text/x-python",
   "name": "python",
   "nbconvert_exporter": "python",
   "pygments_lexer": "ipython3",
   "version": "3.7.6"
  }
 },
 "nbformat": 4,
 "nbformat_minor": 4
}
