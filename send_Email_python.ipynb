{
 "cells": [
  {
   "cell_type": "code",
   "execution_count": 2,
   "metadata": {
    "colab": {
     "base_uri": "https://localhost:8080/",
     "height": 101
    },
    "colab_type": "code",
    "executionInfo": {
     "elapsed": 21635,
     "status": "ok",
     "timestamp": 1593950624063,
     "user": {
      "displayName": "Thoughts Trendy",
      "photoUrl": "",
      "userId": "09444680051483232279"
     },
     "user_tz": -330
    },
    "id": "0l_Qod4x0ErY",
    "outputId": "4fd482e0-3c00-47cd-f6ba-27a8041362de"
   },
   "outputs": [
    {
     "name": "stdout",
     "output_type": "stream",
     "text": [
      "Enter Subject :test email\n",
      "Enter message body :Enter message body :This has to save app pass \"clvcdxsajgkrdhsv\" which will be used for testhubber65\n",
      "Password :········\n",
      "Email Sent\n",
      "in finally\n"
     ]
    }
   ],
   "source": [
    "import smtplib\n",
    "import getpass\n",
    "\n",
    "sent_from='testhubber65@gmail.com'\n",
    "try:\n",
    "    server= smtplib.SMTP('smtp.gmail.com',587)\n",
    "    server.ehlo()\n",
    "    server.starttls()\n",
    "    to_email=\"jeetu08258sinha@gmail.com\"\n",
    "    subject=input(\"Enter Subject :\")\n",
    "    message_body=input(\"Enter message body :\")\n",
    "    message=subject+\" \\n\"+message_body\n",
    "    #emailID=input(\"enter email id : \")\n",
    "    password=getpass.getpass(\"Password :\")\n",
    "    server.login(sent_from,password)\n",
    "    server.sendmail(sent_from,to_email,message)\n",
    "    server.quit()\n",
    "    print(\"Email Sent\")\n",
    "except:\n",
    "    print(\"Something wrong!!\")\n",
    "finally:\n",
    "    print(\"in finally\")\n"
   ]
  },
  {
   "cell_type": "code",
   "execution_count": null,
   "metadata": {
    "colab": {},
    "colab_type": "code",
    "id": "c-aOeEEw0SYk"
   },
   "outputs": [],
   "source": [
    "\n"
   ]
  }
 ],
 "metadata": {
  "colab": {
   "authorship_tag": "ABX9TyMMez3hvL29vZX51WdJHgoq",
   "name": "Untitled1.ipynb",
   "provenance": []
  },
  "kernelspec": {
   "display_name": "Python 3",
   "language": "python",
   "name": "python3"
  },
  "language_info": {
   "codemirror_mode": {
    "name": "ipython",
    "version": 3
   },
   "file_extension": ".py",
   "mimetype": "text/x-python",
   "name": "python",
   "nbconvert_exporter": "python",
   "pygments_lexer": "ipython3",
   "version": "3.7.6"
  }
 },
 "nbformat": 4,
 "nbformat_minor": 1
}
