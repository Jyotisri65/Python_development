{
 "cells": [
  {
   "cell_type": "markdown",
   "metadata": {},
   "source": [
    "MASTER YODA: Given a sentence, return a sentence with the words reversed\n",
    "master_yoda('I am home') --> 'home am I'\n",
    "master_yoda('We are ready') --> 'ready are We'"
   ]
  },
  {
   "cell_type": "markdown",
   "metadata": {},
   "source": [
    "it should have to return a string not a list"
   ]
  },
  {
   "cell_type": "code",
   "execution_count": 1,
   "metadata": {},
   "outputs": [
    {
     "name": "stdout",
     "output_type": "stream",
     "text": [
      "here am i\n"
     ]
    }
   ],
   "source": [
    "def master_string(j):\n",
    "#j = \"i am here\"\n",
    "    split_str=j.split( )\n",
    "    split_str.reverse()\n",
    "    #' '.join(new_str)\n",
    "\n",
    "    #print(split_str[::-1])\n",
    "    #print(split_str)\n",
    "    new_str=' '.join(split_str)\n",
    "    print(new_str)\n",
    "master_string('i am here')"
   ]
  },
  {
   "cell_type": "markdown",
   "metadata": {},
   "source": [
    "input ['a','b','c']\n",
    "output a--b--c'\n",
    ">>> \"--\".join(['a','b','c'])\n",
    ">>> 'a--b--c'"
   ]
  },
  {
   "cell_type": "code",
   "execution_count": 2,
   "metadata": {},
   "outputs": [
    {
     "name": "stdout",
     "output_type": "stream",
     "text": [
      "a--b--c\n"
     ]
    }
   ],
   "source": [
    "def master_string(text):\n",
    "    new_str=text.split(',')\n",
    "    #new_str.reverse()\n",
    "    out_str=\"--\".join(new_str)\n",
    "    print(out_str)\n",
    "master_string('a,b,c')"
   ]
  },
  {
   "cell_type": "markdown",
   "metadata": {},
   "source": [
    "ALMOST THERE: Given an integer n, return True if n is within 10 of either 100 or 200\n",
    "almost_there(90) --> True\n",
    "almost_there(104) --> True\n",
    "almost_there(150) --> False\n",
    "almost_there(209) --> True"
   ]
  },
  {
   "cell_type": "code",
   "execution_count": 5,
   "metadata": {},
   "outputs": [
    {
     "data": {
      "text/plain": [
       "True"
      ]
     },
     "execution_count": 5,
     "metadata": {},
     "output_type": "execute_result"
    }
   ],
   "source": [
    "\n",
    "#almost_there(104)\n",
    "def almost_there(n):\n",
    "    n1=n-100\n",
    "    n2=n-200\n",
    "    if abs(n1)<=10 or abs(n2)<=10:\n",
    "        return True\n",
    "    else:\n",
    "        return False\n",
    "    print(f'the number is {n}')\n",
    "almost_there(209)"
   ]
  },
  {
   "cell_type": "markdown",
   "metadata": {},
   "source": [
    "Given a list of ints, return True if the array contains a 3 next to a 3 somewhere.\n",
    "has_33([1, 3, 3]) → True\n",
    "has_33([1, 3, 1, 3]) → False\n",
    "has_33([3, 1, 3]) → False"
   ]
  },
  {
   "cell_type": "code",
   "execution_count": 7,
   "metadata": {},
   "outputs": [
    {
     "name": "stdout",
     "output_type": "stream",
     "text": [
      "i am in False\n",
      "i am in treu\n"
     ]
    },
    {
     "data": {
      "text/plain": [
       "True"
      ]
     },
     "execution_count": 7,
     "metadata": {},
     "output_type": "execute_result"
    }
   ],
   "source": [
    "def has_33(args):\n",
    "    num_len=len(args)\n",
    "    #nums=args.split( )\n",
    "    for x in range(num_len):\n",
    "        if args[x]==3 and args[x+1]==3:\n",
    "            print(\"i am in treu\")\n",
    "            return True\n",
    "        else:\n",
    "            print(\"i am in False\")\n",
    "            pass\n",
    "    return False\n",
    "        \n",
    "    print(f\" {x} : args[x] and {x+1} : args[x+1]\")\n",
    "\n",
    "has_33([1,3,3,4])"
   ]
  },
  {
   "cell_type": "markdown",
   "metadata": {},
   "source": [
    "PAPER DOLL: Given a string, return a string where for every character in the original there are three characters\n",
    "paper_doll('Hello') --> 'HHHeeellllllooo'\n",
    "paper_doll('Mississippi') --> 'MMMiiissssssiiippppppiii'"
   ]
  },
  {
   "cell_type": "code",
   "execution_count": 8,
   "metadata": {},
   "outputs": [
    {
     "name": "stdout",
     "output_type": "stream",
     "text": [
      "HHHeeellllllooo\n"
     ]
    }
   ],
   "source": [
    "def paper_doll(text):\n",
    "    #print(len(text))\n",
    "    new_str=\"\"\n",
    "    for i in range(len(text)):\n",
    "        new_str+=text[i]*3\n",
    "    print(new_str)\n",
    "paper_doll(\"Hello\")"
   ]
  },
  {
   "cell_type": "markdown",
   "metadata": {},
   "source": [
    "\n",
    "BLACKJACK: Given three integers between 1 and 11, if their sum is less than or equal to 21, return their sum. If their sum exceeds 21 and there's an eleven, reduce the total sum by 10. Finally, if the sum (even after adjustment) exceeds 21, return 'BUST'\n",
    "blackjack(5,6,7) --> 18\n",
    "blackjack(9,9,9) --> 'BUST'\n",
    "blackjack(9,9,11) --> 19"
   ]
  },
  {
   "cell_type": "code",
   "execution_count": 9,
   "metadata": {},
   "outputs": [
    {
     "name": "stdout",
     "output_type": "stream",
     "text": [
      " sum of the numbers is : 17\n",
      " True Statement\n",
      "17\n"
     ]
    }
   ],
   "source": [
    "def blackjack(text):\n",
    "    #print(text[0])\n",
    "    \n",
    "    if (1<text[0] or text[0]<11) or (1<text[1] or text[1]<11) or (1<text[3] or text[3]<11):\n",
    "        num_sum= text[0]+text[1]+text[2]\n",
    "        print(f\" sum of the numbers is : {num_sum}\")\n",
    "        if num_sum <= 21:\n",
    "            print(\" True Statement\")\n",
    "        elif num_sum > 21:\n",
    "            print(\"i am here\")\n",
    "            if text[0]==11 or text[1]==11 or text[2]==11:\n",
    "                new_sum=num_sum-10\n",
    "                print(f\" new sum is : {new_sum}\")\n",
    "                if new_sum > 21:\n",
    "                    print(\"BUST\")\n",
    "                else:\n",
    "                    num_sum=new_sum\n",
    "                    print(f\"New num_sum in else : {num_sum}\")\n",
    "            else:\n",
    "                print(\"Try again\")\n",
    "        else:\n",
    "            print(\"in false statement\")\n",
    "    print(num_sum)\n",
    "    \n",
    "       \n",
    "blackjack([3,11,3])"
   ]
  },
  {
   "cell_type": "markdown",
   "metadata": {},
   "source": [
    "#### SUMMER OF '69: Return the sum of the numbers in the array, except ignore sections of numbers starting with a 6 and extending to the next 9 (every 6 will be followed by at least one 9). Return 0 for no numbers.\n",
    " \n",
    "    summer_69([1, 3, 5]) --> 9\n",
    "    summer_69([4, 5, 6, 7, 8, 9]) --> 9\n",
    "    summer_69([2, 1, 6, 9, 11]) --> 14"
   ]
  },
  {
   "cell_type": "code",
   "execution_count": 10,
   "metadata": {},
   "outputs": [
    {
     "name": "stdout",
     "output_type": "stream",
     "text": [
      " Array entered is :[4, 5, 6, 7, 8, 9]\n",
      " '6' at index : 2 AND '9' at index is : 5\n",
      " check array j2 : []\n",
      " leave sum of the numbers j1 : [6, 7, 8, 9]\n",
      " sum of array [4, 5] is : 9 and rest sum of array [] is 0\n"
     ]
    }
   ],
   "source": [
    "def summer_69(arr):\n",
    "    index=arr.index(6)\n",
    "    index1=arr.index(9)\n",
    "    index2=index1+1\n",
    "    print(f\" Array entered is :{arr}\")\n",
    "    print(f\" '6' at index : {index} AND '9' at index is : {index1}\")\n",
    "    j1=arr[index:index2]\n",
    "    #print(f\" index check :{j[index2]}\")\n",
    "    j2=arr[index2:]\n",
    "    print(f\" check array j2 : {j2}\")\n",
    "    if index < index1:\n",
    "        print(f\" leave sum of the numbers j1 : {j1}\")\n",
    "        print(f\" sum of array {arr[:index]} is : {sum(arr[:index])} and rest sum of array {arr[index2:]} is {sum(arr[index2:])}\")\n",
    "    elif index1 < index:\n",
    "        print(f\" leave sum of the numbers {j[index1:(index+1)]}\")\n",
    "        print(f\" sum of array {arr[:index1]} is : {sum(arr[:index1])}\")\n",
    "        print(f\" sum of array {arr[:index1]} is : {sum(arr[:index1])} and rest sum of array {arr[(index1+1):]} is {sum(arr[(index1+1):])}\")\n",
    "    else:\n",
    "        print(\" we are in else statement now\")\n",
    "summer_69([4, 5, 6, 7, 8, 9])"
   ]
  },
  {
   "cell_type": "code",
   "execution_count": null,
   "metadata": {},
   "outputs": [],
   "source": []
  }
 ],
 "metadata": {
  "kernelspec": {
   "display_name": "Python 3",
   "language": "python",
   "name": "python3"
  },
  "language_info": {
   "codemirror_mode": {
    "name": "ipython",
    "version": 3
   },
   "file_extension": ".py",
   "mimetype": "text/x-python",
   "name": "python",
   "nbconvert_exporter": "python",
   "pygments_lexer": "ipython3",
   "version": "3.7.6"
  }
 },
 "nbformat": 4,
 "nbformat_minor": 4
}
