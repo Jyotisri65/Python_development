{
 "cells": [
  {
   "cell_type": "code",
   "execution_count": 2,
   "metadata": {},
   "outputs": [
    {
     "name": "stdout",
     "output_type": "stream",
     "text": [
      "  |   |  \n",
      "---------\n",
      "  |   |  \n",
      "----------\n",
      "  |   |  \n"
     ]
    }
   ],
   "source": [
    "from IPython.display import clear_output\n",
    "board1=[' ']*10\n",
    "#board1=['0','1','2','3','4','5','6','7','8','9']\n",
    "#board1=[\"#\",\"X\",\"X\",\"O\",\"O\",\"O\",\"X\",\"X\",\"X\",'X']\n",
    "def display_board(board1):\n",
    "    clear_output()\n",
    "    \n",
    "    #board1=[\"#\",\"X\",\"X\",\"O\",\"O\",\"O\",\"X\",\"X\",\"X\",'X']\n",
    "    \n",
    "    \n",
    "    #board1=['0','1','2','3','4','5','6','7','8','9']\n",
    "    print(board1[7]+\" | \"+board1[8]+\" | \"+board1[9])\n",
    "    print(\"---------\")\n",
    "    print(board1[4]+\" | \"+board1[5]+\" | \"+board1[6])\n",
    "    print(\"----------\")\n",
    "    print(board1[1]+\" | \"+board1[2]+\" | \"+board1[3])\n",
    "display_board(board1)"
   ]
  },
  {
   "cell_type": "code",
   "execution_count": 3,
   "metadata": {},
   "outputs": [
    {
     "name": "stdout",
     "output_type": "stream",
     "text": [
      "choose a Player 'X' or 'O' : x\n",
      " Player1 : X  AND Player2 : O\n"
     ]
    }
   ],
   "source": [
    "def player_choose():\n",
    "    \n",
    "    marker=''\n",
    "    while marker!='X' and marker!= 'O':\n",
    "        marker=input(\"choose a Player 'X' or 'O' : \").upper()\n",
    "        Player1=marker\n",
    "    if Player1==\"X\":\n",
    "        Player2=\"O\"\n",
    "        #return ('X','O')\n",
    "    else:\n",
    "        Player2=\"X\"\n",
    "        #return ('O','X')\n",
    "    print(f\" Player1 : {Player1}  AND Player2 : {Player2}\")\n",
    "    return(Player1,Player2)\n",
    "Player1_marker, Player2_marker =player_choose()"
   ]
  },
  {
   "cell_type": "code",
   "execution_count": 3,
   "metadata": {},
   "outputs": [
    {
     "data": {
      "text/plain": [
       "'O'"
      ]
     },
     "execution_count": 3,
     "metadata": {},
     "output_type": "execute_result"
    }
   ],
   "source": [
    "Player2_marker\n"
   ]
  },
  {
   "cell_type": "code",
   "execution_count": 4,
   "metadata": {},
   "outputs": [
    {
     "name": "stdout",
     "output_type": "stream",
     "text": [
      "  |   |  \n",
      "---------\n",
      "  |   |  \n",
      "----------\n",
      "  |   |  \n",
      "O has won the match\n"
     ]
    },
    {
     "data": {
      "text/plain": [
       "False"
      ]
     },
     "execution_count": 4,
     "metadata": {},
     "output_type": "execute_result"
    }
   ],
   "source": [
    "def win_check(board1,marker):\n",
    "    print(f\"{marker} has won the match\")\n",
    "    return ((board1[1]==board1[2]==board1[3]==marker) or #horizonal 3rd line\n",
    "            (board1[4]==board1[5]==board1[6]==marker) or #horizontal 2nd line\n",
    "            (board1[7]==board1[8]==board1[9]==marker) or #horizontal 1st line\n",
    "            (board1[1]==board1[5]==board1[9]==marker) or #diagonal right\n",
    "            (board1[3]==board1[5]==board1[7]==marker) or #diagonal left\n",
    "            (board1[1]==board1[4]==board1[7]==marker) or #vertical left\n",
    "            (board1[2]==board1[5]==board1[8]==marker) or #vertical middle\n",
    "            (board1[3]==board1[6]==board1[9]==marker)) #vertical right\n",
    "            \n",
    "display_board(board1)\n",
    "win_check(board1,'O')"
   ]
  },
  {
   "cell_type": "code",
   "execution_count": 5,
   "metadata": {},
   "outputs": [
    {
     "data": {
      "text/plain": [
       "'Player1'"
      ]
     },
     "execution_count": 5,
     "metadata": {},
     "output_type": "execute_result"
    }
   ],
   "source": [
    "import random\n",
    "def choose_first():\n",
    "    flag=random.randint(0,1)\n",
    "    if flag==0:\n",
    "        return 'Player1'\n",
    "    else:\n",
    "        return 'Player2'\n",
    "choose_first()"
   ]
  },
  {
   "cell_type": "code",
   "execution_count": 6,
   "metadata": {},
   "outputs": [
    {
     "name": "stdout",
     "output_type": "stream",
     "text": [
      "  |   |  \n",
      "---------\n",
      "  |   |  \n",
      "----------\n",
      "  |   |  \n"
     ]
    },
    {
     "data": {
      "text/plain": [
       "True"
      ]
     },
     "execution_count": 6,
     "metadata": {},
     "output_type": "execute_result"
    }
   ],
   "source": [
    "def space_check(board1,position):\n",
    "    if board1[position]==' ':\n",
    "        return True\n",
    "    else:\n",
    "        return False\n",
    "display_board(board1)    \n",
    "space_check(board1,5)"
   ]
  },
  {
   "cell_type": "code",
   "execution_count": 7,
   "metadata": {},
   "outputs": [
    {
     "name": "stdout",
     "output_type": "stream",
     "text": [
      "  |   |  \n",
      "---------\n",
      "  |   |  \n",
      "----------\n",
      "  |   |  \n"
     ]
    },
    {
     "data": {
      "text/plain": [
       "False"
      ]
     },
     "execution_count": 7,
     "metadata": {},
     "output_type": "execute_result"
    }
   ],
   "source": [
    "def full_boardCheck():\n",
    "    for i in range(1,10):\n",
    "        if space_check(board1,i):\n",
    "            return False\n",
    "    return True\n",
    "display_board(board1)\n",
    "full_boardCheck()"
   ]
  },
  {
   "cell_type": "code",
   "execution_count": null,
   "metadata": {},
   "outputs": [
    {
     "name": "stdout",
     "output_type": "stream",
     "text": [
      "enter a input a position (1-9) :11\n",
      "Inavlid choice..Try again!!\n",
      "enter a input a position (1-9) :1\n",
      "enter a input a position (1-9) :2\n",
      "enter a input a position (1-9) :3\n",
      "enter a input a position (1-9) :4\n",
      "enter a input a position (1-9) :5\n",
      "enter a input a position (1-9) :6\n",
      "enter a input a position (1-9) :7\n",
      "enter a input a position (1-9) :8\n",
      "enter a input a position (1-9) :8\n",
      "enter a input a position (1-9) :9\n",
      "enter a input a position (1-9) :9\n",
      "enter a input a position (1-9) :999999999999\n",
      "Inavlid choice..Try again!!\n",
      "enter a input a position (1-9) :32\n",
      "Inavlid choice..Try again!!\n"
     ]
    }
   ],
   "source": [
    "def choose_A_Poistion(board1):\n",
    "    position=0\n",
    "   \n",
    "    while position not in [1,2,3,4,5,6,7,8,9] or space_check(board1,position):\n",
    "        position=int(input(\"enter a input a position (1-9) :\"))\n",
    "        if position not in [1,2,3,4,5,6,7,8,9]:\n",
    "            print(\"Inavlid choice..Try again!!\")\n",
    "    return position\n",
    "choose_A_Poistion(board1)"
   ]
  },
  {
   "cell_type": "code",
   "execution_count": 10,
   "metadata": {},
   "outputs": [
    {
     "name": "stdout",
     "output_type": "stream",
     "text": [
      "enter a choice ['Y' or 'N'] : y\n"
     ]
    },
    {
     "data": {
      "text/plain": [
       "True"
      ]
     },
     "execution_count": 10,
     "metadata": {},
     "output_type": "execute_result"
    }
   ],
   "source": [
    "def replay_game():\n",
    "    choice=\"wrong\"\n",
    "    while choice not in [\"Y\",\"N\"]:\n",
    "        choice=input(\"enter a choice ['Y' or 'N'] : \").upper()\n",
    "        if choice!=\"Y\":\n",
    "            return False\n",
    "    return True\n",
    "replay_game()"
   ]
  },
  {
   "cell_type": "code",
   "execution_count": 1,
   "metadata": {},
   "outputs": [
    {
     "name": "stdout",
     "output_type": "stream",
     "text": [
      "welcome to Tic tac toe game\n"
     ]
    },
    {
     "ename": "NameError",
     "evalue": "name 'display_board' is not defined",
     "output_type": "error",
     "traceback": [
      "\u001b[1;31m---------------------------------------------------------------------------\u001b[0m",
      "\u001b[1;31mNameError\u001b[0m                                 Traceback (most recent call last)",
      "\u001b[1;32m<ipython-input-1-69638fcf78c8>\u001b[0m in \u001b[0;36m<module>\u001b[1;34m\u001b[0m\n\u001b[0;32m      4\u001b[0m \u001b[1;32mwhile\u001b[0m \u001b[1;32mTrue\u001b[0m\u001b[1;33m:\u001b[0m\u001b[1;33m\u001b[0m\u001b[1;33m\u001b[0m\u001b[0m\n\u001b[0;32m      5\u001b[0m     \u001b[0mthe_board\u001b[0m\u001b[1;33m=\u001b[0m\u001b[1;33m[\u001b[0m\u001b[1;34m' '\u001b[0m\u001b[1;33m]\u001b[0m\u001b[1;33m*\u001b[0m\u001b[1;36m10\u001b[0m\u001b[1;33m\u001b[0m\u001b[1;33m\u001b[0m\u001b[0m\n\u001b[1;32m----> 6\u001b[1;33m     \u001b[0mboard\u001b[0m\u001b[1;33m=\u001b[0m\u001b[0mdisplay_board\u001b[0m\u001b[1;33m(\u001b[0m\u001b[0mthe_board\u001b[0m\u001b[1;33m)\u001b[0m\u001b[1;33m\u001b[0m\u001b[1;33m\u001b[0m\u001b[0m\n\u001b[0m\u001b[0;32m      7\u001b[0m     \u001b[0mPlayer1_marker\u001b[0m\u001b[1;33m,\u001b[0m \u001b[0mPlayer2_marker\u001b[0m \u001b[1;33m=\u001b[0m\u001b[0mplayer_choose\u001b[0m\u001b[1;33m(\u001b[0m\u001b[1;33m)\u001b[0m\u001b[1;33m\u001b[0m\u001b[1;33m\u001b[0m\u001b[0m\n\u001b[0;32m      8\u001b[0m     \u001b[0mwhose_turn\u001b[0m\u001b[1;33m=\u001b[0m\u001b[0mchoose_first\u001b[0m\u001b[1;33m(\u001b[0m\u001b[1;33m)\u001b[0m\u001b[1;33m\u001b[0m\u001b[1;33m\u001b[0m\u001b[0m\n",
      "\u001b[1;31mNameError\u001b[0m: name 'display_board' is not defined"
     ]
    }
   ],
   "source": [
    "print(\"welcome to Tic tac toe game\")\n",
    "game_on=True\n",
    "\n",
    "while True:\n",
    "    the_board=[' ']*10\n",
    "    board=display_board(the_board)\n",
    "    Player1_marker, Player2_marker =player_choose()\n",
    "    whose_turn=choose_first()\n",
    "    print(f\" {whose_turn} will go first to play\")\n",
    "    play_game=input(\"ready to play? choose 'Y' or 'N'\").upper()\n",
    "    if play_game=='Y':\n",
    "        game_on= True\n",
    "    else:\n",
    "        game_on= False\n",
    "    \n",
    "    while game_on:\n",
    "        if whose_turn==\"Player1\":\n",
    "            display_board(the_board)\n",
    "            position =choose_A_Poistion(the_board)\n",
    "            place_marker(the_board,Player1_marker,position)\n",
    "            if win_check(the_board,Player1_marker):\n",
    "                display_board(the_board)\n",
    "                print(\"Player 1 has won the game!!\")\n",
    "                game_on=False\n",
    "            else:\n",
    "                if full_boardCheck():\n",
    "                    display_board(the_board)\n",
    "                    print(\"Tie Game!!\")\n",
    "                    game_on=False\n",
    "                else:\n",
    "                    whose_turn=\"Player2\"\n",
    "            \n",
    "        else:   \n",
    "            whose_turn=\"Player2\"\n",
    "            display_board(the_board)\n",
    "            position =choose_A_Poistion(the_board)\n",
    "            place_marker(the_board,Player2_marker,position)\n",
    "            if win_check(the_board,Player2_marker):\n",
    "                display_board(the_board)\n",
    "                print(\"Player 2 has won the game!!\")\n",
    "                game_on=False\n",
    "            else:\n",
    "                if full_boardCheck():\n",
    "                    display_board(board)\n",
    "                    print(\"Tie Game!!\")\n",
    "                    game_on=False\n",
    "                else:\n",
    "                    whose_turn=\"Player1\"\n",
    "    \n",
    "    if not replay():\n",
    "        break\n"
   ]
  },
  {
   "cell_type": "code",
   "execution_count": null,
   "metadata": {},
   "outputs": [],
   "source": []
  },
  {
   "cell_type": "code",
   "execution_count": null,
   "metadata": {},
   "outputs": [],
   "source": []
  }
 ],
 "metadata": {
  "kernelspec": {
   "display_name": "Python 3",
   "language": "python",
   "name": "python3"
  },
  "language_info": {
   "codemirror_mode": {
    "name": "ipython",
    "version": 3
   },
   "file_extension": ".py",
   "mimetype": "text/x-python",
   "name": "python",
   "nbconvert_exporter": "python",
   "pygments_lexer": "ipython3",
   "version": "3.7.6"
  }
 },
 "nbformat": 4,
 "nbformat_minor": 4
}
